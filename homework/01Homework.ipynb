{
 "cells": [
  {
   "cell_type": "markdown",
   "metadata": {
    "id": "P6xk2_jLsvFF"
   },
   "source": [
    "# [作業目標]\n",
    "\n",
    "1. [簡答題] 請問下列兩種將 Array 轉換成 List 的方式有何不同？\n",
    "\n",
    "```\n",
    "print('list(a): ', list(a))\n",
    "print('tolist(): ', a.tolist())\n",
    "```\n",
    "\n",
    "2. 請試著在程式中印出以下三個 NdArray 的屬性？（屬性：ndim、shape、size、dtype、itemsize、length、type）\n",
    "\n",
    "```\n",
    "a = np.random.randint(10, size=6) \n",
    "b = np.random.randint(10, size=(3,4)) \n",
    "c = np.random.randint(10, size=(2,3,2)) \n",
    "```\n",
    "\n",
    "3. 如何利用 list(...) 實現 a.tolist() 的效果？試著用程式實作。\n"
   ]
  },
  {
   "cell_type": "markdown",
   "metadata": {
    "id": "uXGll28asvFS"
   },
   "source": [
    "# 作業 "
   ]
  },
  {
   "cell_type": "markdown",
   "metadata": {
    "id": "SYkvkp9YLwB7"
   },
   "source": [
    "### 1. [簡答題] 請問下列兩種將 Array 轉換成 List 的方式有何不同？\n",
    "\n",
    "```\n",
    "print('list(a): ', list(a))\n",
    "print('tolist(): ', a.tolist())\n",
    "```\n"
   ]
  },
  {
   "cell_type": "code",
   "execution_count": 4,
   "metadata": {
    "id": "5QrYoyNWsvFS",
    "outputId": "13f374d0-6f1b-47aa-bbac-c7d1a8c6995c"
   },
   "outputs": [
    {
     "name": "stdout",
     "output_type": "stream",
     "text": [
      "[[ 0  1  2  3  4]\n",
      " [ 5  6  7  8  9]\n",
      " [10 11 12 13 14]]\n",
      "list(a):  [array([0, 1, 2, 3, 4]), array([5, 6, 7, 8, 9]), array([10, 11, 12, 13, 14])]\n",
      "tolist(): [[0, 1, 2, 3, 4], [5, 6, 7, 8, 9], [10, 11, 12, 13, 14]]\n"
     ]
    }
   ],
   "source": [
    "import numpy as np\n",
    "data = np.arange(15).reshape(3,5)\n",
    "\n",
    "print(data)\n",
    "\n",
    "print('list(a): ', list(a))  #只會把第一層的元素轉換成 List，多層的話只有第一層會轉\n",
    "print('tolist():', a.tolist()) #才能達成多層的型態轉換"
   ]
  },
  {
   "cell_type": "markdown",
   "metadata": {
    "id": "AC9wUCyALwB9"
   },
   "source": [
    "### 2. 請試著在程式中印出以下三個 NdArray 的屬性並且解釋結果？（屬性：ndim、shape、size、dtype、itemsize、length、type）\n",
    "\n",
    "```\n",
    "a = np.random.randint(10, size=6) \n",
    "b = np.random.randint(10, size=(3,4)) \n",
    "c = np.random.randint(10, size=(2,3,2)) \n",
    "```"
   ]
  },
  {
   "cell_type": "code",
   "execution_count": 5,
   "metadata": {
    "id": "4qARRsdtLwB-"
   },
   "outputs": [],
   "source": [
    "# 記得先 Import 正確的套件\n",
    "import numpy as np"
   ]
  },
  {
   "cell_type": "code",
   "execution_count": 10,
   "metadata": {
    "id": "e1gVI0tvsvFY",
    "outputId": "9be10770-9042-40c8-c4bc-217b84be9fc9"
   },
   "outputs": [
    {
     "name": "stdout",
     "output_type": "stream",
     "text": [
      "[5 4 9 8 9 5]\n",
      "1\n",
      "(6,)\n",
      "6\n",
      "int32\n",
      "4\n",
      "6\n",
      "<class 'numpy.ndarray'>\n"
     ]
    }
   ],
   "source": [
    "#隨機建出一個包含 6個元素的陣列，元素為 0~9 的整數\n",
    "a = np.random.randint(10, size=6) \n",
    "print(a)\n",
    "\n",
    "#此陣列是一維陣列\n",
    "print(a.ndim)\n",
    "\n",
    "#此一維陣列大小為 6\n",
    "print(a.shape)\n",
    "\n",
    "#陣列中有 6個元素\n",
    "print(a.size)\n",
    "\n",
    "#陣列中的資料型態為 int32\n",
    "print(a.dtype)\n",
    "\n",
    "#陣列中每個元素所占空間\n",
    "print(a.itemsize)\n",
    "\n",
    "#陣列長度為 6\n",
    "print(len(a))\n",
    "\n",
    "#陣列型態為 numpy.ndarray\n",
    "print(type(a))"
   ]
  },
  {
   "cell_type": "code",
   "execution_count": 11,
   "metadata": {
    "id": "iIJrIr7kLwB_",
    "outputId": "083c5519-394c-404e-9764-100c4ed5118a"
   },
   "outputs": [
    {
     "name": "stdout",
     "output_type": "stream",
     "text": [
      "[[0 0 9 6]\n",
      " [6 4 7 0]\n",
      " [2 9 6 8]]\n",
      "2\n",
      "(3, 4)\n",
      "12\n",
      "int32\n",
      "4\n",
      "3\n",
      "<class 'numpy.ndarray'>\n"
     ]
    }
   ],
   "source": [
    "#隨機出一個 3x4的陣列，元素為 0~9 的整數\n",
    "b = np.random.randint(10, size=(3,4)) \n",
    "print(b)\n",
    "\n",
    "#此陣列是二維陣列\n",
    "print(b.ndim)\n",
    "\n",
    "#此二維陣列大小為 (3,4)\n",
    "print(b.shape)\n",
    "\n",
    "#陣列中有 12個元素\n",
    "print(b.size)\n",
    "\n",
    "#陣列中的資料型態為 int32\n",
    "print(b.dtype)\n",
    "\n",
    "#陣列中每個元素所占空間\n",
    "print(b.itemsize)\n",
    "\n",
    "#陣列長度為 3\n",
    "print(len(b))\n",
    "\n",
    "#陣列型態為 numpy.ndarray\n",
    "print(type(b))"
   ]
  },
  {
   "cell_type": "code",
   "execution_count": 12,
   "metadata": {
    "id": "98SRFh_FLwCC",
    "outputId": "dc65dfac-9ae6-49d2-f854-88eccebc2aac"
   },
   "outputs": [
    {
     "name": "stdout",
     "output_type": "stream",
     "text": [
      "[[[0 6]\n",
      "  [3 3]\n",
      "  [7 9]]\n",
      "\n",
      " [[2 7]\n",
      "  [9 9]\n",
      "  [9 2]]]\n",
      "3\n",
      "(2, 3, 2)\n",
      "12\n",
      "int32\n",
      "4\n",
      "2\n",
      "<class 'numpy.ndarray'>\n"
     ]
    }
   ],
   "source": [
    "#隨機出一個 2x3x2的陣列，元素為 0~9 的整數\n",
    "c = np.random.randint(10, size=(2,3,2)) \n",
    "print(c)\n",
    "\n",
    "#此陣列是三維陣列\n",
    "print(c.ndim)\n",
    "\n",
    "#此二維陣列大小為 (2,3,2)\n",
    "print(c.shape)\n",
    "\n",
    "#陣列中有 12個元素\n",
    "print(c.size)\n",
    "\n",
    "#陣列中的資料型態為 int32\n",
    "print(c.dtype)\n",
    "\n",
    "#陣列中每個元素所占空間\n",
    "print(c.itemsize)\n",
    "\n",
    "#陣列長度為 2\n",
    "print(len(c))\n",
    "\n",
    "#陣列型態為 numpy.ndarray\n",
    "print(type(c))"
   ]
  },
  {
   "cell_type": "markdown",
   "metadata": {
    "id": "Uf6zC0QZLwCE"
   },
   "source": [
    "### 3. 如何利用 list(...) 實現 a.tolist() 的效果？試著用程式實作。\n"
   ]
  },
  {
   "cell_type": "code",
   "execution_count": 13,
   "metadata": {
    "id": "sCUzHu_BLwCF",
    "outputId": "ba9c8945-8efb-42b1-f978-2bbdda97accd"
   },
   "outputs": [
    {
     "name": "stdout",
     "output_type": "stream",
     "text": [
      "[3, 6, 0, 5, 7, 9]\n",
      "[3, 6, 0, 5, 7, 9]\n"
     ]
    }
   ],
   "source": [
    "a = np.random.randint(10, size=6) \n",
    "\n",
    "print(a.tolist())\n",
    "print(list(a))\n"
   ]
  },
  {
   "cell_type": "code",
   "execution_count": 14,
   "metadata": {
    "id": "IUkVtw8RLwCG",
    "outputId": "e39875a5-5ec7-431b-c12a-485acc167e44"
   },
   "outputs": [
    {
     "name": "stdout",
     "output_type": "stream",
     "text": [
      "[[7, 6, 8, 2], [0, 3, 9, 9], [1, 9, 6, 3]]\n",
      "[array([7, 6, 8, 2]), array([0, 3, 9, 9]), array([1, 9, 6, 3])]\n"
     ]
    }
   ],
   "source": [
    "b = np.random.randint(10, size=(3,4)) \n",
    "\n",
    "print(b.tolist())\n",
    "print(list(b))\n"
   ]
  },
  {
   "cell_type": "code",
   "execution_count": 15,
   "metadata": {
    "id": "NPhF8_CqLwCG",
    "outputId": "51fab908-5bfd-415f-9584-92bb376648c8"
   },
   "outputs": [
    {
     "name": "stdout",
     "output_type": "stream",
     "text": [
      "[[[2, 2], [0, 5], [9, 7]], [[7, 0], [2, 9], [7, 4]]]\n",
      "[array([[2, 2],\n",
      "       [0, 5],\n",
      "       [9, 7]]), array([[7, 0],\n",
      "       [2, 9],\n",
      "       [7, 4]])]\n"
     ]
    }
   ],
   "source": [
    "c = np.random.randint(10, size=(2,3,2)) \n",
    "\n",
    "print(c.tolist())\n",
    "print(list(c))\n"
   ]
  },
  {
   "cell_type": "code",
   "execution_count": 21,
   "metadata": {
    "id": "3Hc8vQYtLwCH",
    "outputId": "1290bc93-84ca-4da4-eb1a-315da37afaff",
    "scrolled": false
   },
   "outputs": [
    {
     "name": "stdout",
     "output_type": "stream",
     "text": [
      "list(a) -> a.tolist: [3, 6, 0, 5, 7, 9]\n",
      "list(b) -> b.tolist: [[7, 6, 8, 2], [0, 3, 9, 9], [1, 9, 6, 3]]\n",
      "list(c) -> c.tolist: [[[2, 2], [0, 5], [9, 7]], [[7, 0], [2, 9], [7, 4]]]\n"
     ]
    }
   ],
   "source": [
    "def list(iterable):\n",
    "    return iterable.tolist()\n",
    "\n",
    "print('list(a) -> a.tolist:', list(a))\n",
    "print('list(b) -> b.tolist:', list(b))\n",
    "print('list(c) -> c.tolist:', list(c))"
   ]
  },
  {
   "cell_type": "markdown",
   "metadata": {
    "id": "Uf6zC0QZLwCE"
   },
   "source": [
    "### 延伸題\n",
    "題目: 1.生成一個等差數列，首數為0，尾數為20，公差為1的數列。 2.呈上題，將以上數列取出偶數。 3.呈1題，將數列取出3的倍數。"
   ]
  },
  {
   "cell_type": "code",
   "execution_count": 23,
   "metadata": {
    "id": "640whg6NLwCK"
   },
   "outputs": [
    {
     "name": "stdout",
     "output_type": "stream",
     "text": [
      "[ 0  1  2  3  4  5  6  7  8  9 10 11 12 13 14 15 16 17 18 19 20]\n"
     ]
    }
   ],
   "source": [
    "#1.生成一個等差數列，首數為0，尾數為20，公差為1的數列。\n",
    "x = np.arange(21)\n",
    "print(x)"
   ]
  },
  {
   "cell_type": "code",
   "execution_count": 26,
   "metadata": {},
   "outputs": [
    {
     "name": "stdout",
     "output_type": "stream",
     "text": [
      "[ 2  4  6  8 10 12 14 16 18 20]\n"
     ]
    }
   ],
   "source": [
    "#2.呈上題，將以上數列取出偶數。\n",
    "y = np.arange(2,21,2)\n",
    "print(y)"
   ]
  },
  {
   "cell_type": "code",
   "execution_count": 27,
   "metadata": {},
   "outputs": [
    {
     "name": "stdout",
     "output_type": "stream",
     "text": [
      "[ 3  6  9 12 15 18]\n"
     ]
    }
   ],
   "source": [
    "#3.呈1題，將數列取出3的倍數。\n",
    "z = np.arange(3,21,3)\n",
    "print(z)"
   ]
  },
  {
   "cell_type": "code",
   "execution_count": null,
   "metadata": {},
   "outputs": [],
   "source": []
  }
 ],
 "metadata": {
  "colab": {
   "name": "01Homework_維元.ipynb",
   "provenance": []
  },
  "kernelspec": {
   "display_name": "Python 3",
   "language": "python",
   "name": "python3"
  },
  "language_info": {
   "codemirror_mode": {
    "name": "ipython",
    "version": 3
   },
   "file_extension": ".py",
   "mimetype": "text/x-python",
   "name": "python",
   "nbconvert_exporter": "python",
   "pygments_lexer": "ipython3",
   "version": "3.8.5"
  }
 },
 "nbformat": 4,
 "nbformat_minor": 1
}
