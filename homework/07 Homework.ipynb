{
 "cells": [
  {
   "cell_type": "markdown",
   "metadata": {
    "colab_type": "text",
    "id": "P6xk2_jLsvFF"
   },
   "source": [
    "# [作業目標]\n",
    "\n",
    "1. 請比較對一個 100 x 100 * 100 的陣列，使用不同方法對每一個元素 +1 的時間比較。\n",
    "\n",
    "2. 如何從一個陣列中，找出出現頻率最高的數值與位置？\n",
    "\n",
    "3. 如何利用 list(...) 實現 a.tolist() 的效果？試著用程式實作。\n"
   ]
  },
  {
   "cell_type": "markdown",
   "metadata": {
    "colab_type": "text",
    "id": "uXGll28asvFS"
   },
   "source": [
    "# 作業 "
   ]
  },
  {
   "cell_type": "markdown",
   "metadata": {},
   "source": [
    "### 1. 請比較對一個 1000 x 100 x 100 的陣列，使用不同方法對每一個元素 +1 的時間比較。\n",
    "\n",
    "\n"
   ]
  },
  {
   "cell_type": "code",
   "execution_count": 9,
   "metadata": {},
   "outputs": [],
   "source": [
    "# 記得先 Import 正確的套件\n",
    "\n",
    "import numpy as np"
   ]
  },
  {
   "cell_type": "code",
   "execution_count": 3,
   "metadata": {
    "colab": {},
    "colab_type": "code",
    "id": "5QrYoyNWsvFS"
   },
   "outputs": [],
   "source": [
    "Z = np.random.randint(0, 10, 1000000).reshape(100, 100, 100)"
   ]
  },
  {
   "cell_type": "code",
   "execution_count": 16,
   "metadata": {},
   "outputs": [
    {
     "name": "stdout",
     "output_type": "stream",
     "text": [
      "31.4 ns ± 8.33 ns per loop (mean ± std. dev. of 7 runs, 10 loops each)\n"
     ]
    }
   ],
   "source": [
    "%timeit -n 10 a = 2\n",
    "\n",
    "for a in Z:\n",
    "    for row in a:\n",
    "        for b in row:\n",
    "            b+=1"
   ]
  },
  {
   "cell_type": "code",
   "execution_count": 17,
   "metadata": {},
   "outputs": [
    {
     "name": "stdout",
     "output_type": "stream",
     "text": [
      "34.3 ns ± 10.5 ns per loop (mean ± std. dev. of 7 runs, 10 loops each)\n"
     ]
    }
   ],
   "source": [
    "%timeit -n 10 a = 2\n",
    "\n",
    "for c in Z.flat:\n",
    "    c+=1"
   ]
  },
  {
   "cell_type": "code",
   "execution_count": 18,
   "metadata": {},
   "outputs": [
    {
     "name": "stdout",
     "output_type": "stream",
     "text": [
      "32.9 ns ± 7 ns per loop (mean ± std. dev. of 7 runs, 10 loops each)\n"
     ]
    }
   ],
   "source": [
    "%timeit -n 10 a = 2\n",
    "\n",
    "for d in np.nditer(Z):\n",
    "    d = d+1"
   ]
  },
  {
   "cell_type": "markdown",
   "metadata": {},
   "source": [
    "### 2. 如何從一個陣列中，找出出現頻率最高的數值與位置？\n"
   ]
  },
  {
   "cell_type": "code",
   "execution_count": 20,
   "metadata": {
    "colab": {},
    "colab_type": "code",
    "id": "e1gVI0tvsvFY"
   },
   "outputs": [
    {
     "name": "stdout",
     "output_type": "stream",
     "text": [
      "[9 3 5 5 4 8 5 9 7 0 0 6 8 0 9 0 0 7 9 4 1 6 0 4 8 8 7 5 3 3 4 1 6 9 5 3 3\n",
      " 8 1 9 6 8 1 9 7 0 1 8 7 5]\n"
     ]
    }
   ],
   "source": [
    "Z = np.random.randint(0,10,50)\n",
    "print(Z)\n"
   ]
  },
  {
   "cell_type": "code",
   "execution_count": 34,
   "metadata": {},
   "outputs": [
    {
     "name": "stdout",
     "output_type": "stream",
     "text": [
      "數值:\n",
      "0\n",
      "次數:\n",
      "7\n"
     ]
    }
   ],
   "source": [
    "from scipy import stats\n",
    "number = stats.mode(Z)[0][0]\n",
    "times = stats.mode(Z)[1][0]\n",
    "#找出頻率最高的數值為 0，總數有 7次\n",
    "print('數值:')\n",
    "print(number)\n",
    "print('次數:')\n",
    "print(times)"
   ]
  },
  {
   "cell_type": "code",
   "execution_count": 24,
   "metadata": {},
   "outputs": [
    {
     "name": "stdout",
     "output_type": "stream",
     "text": [
      "位置:\n",
      "(array([ 9, 10, 13, 15, 16, 22, 45], dtype=int64),)\n"
     ]
    }
   ],
   "source": [
    "position = np.where(Z==0)\n",
    "print('位置:')\n",
    "print(position)"
   ]
  },
  {
   "cell_type": "markdown",
   "metadata": {},
   "source": [
    "### 3. 如何利用 list(...) 實現 a.tolist() 的效果？試著用程式實作。\n"
   ]
  },
  {
   "cell_type": "code",
   "execution_count": 43,
   "metadata": {},
   "outputs": [
    {
     "name": "stdout",
     "output_type": "stream",
     "text": [
      "[9, 4, 5, 0, 3, 2]\n",
      "[9, 4, 5, 0, 3, 2]\n",
      "[[1, 5, 4, 9], [3, 1, 1, 8], [4, 2, 3, 9]]\n",
      "[[1, 5, 4, 9], [3, 1, 1, 8], [4, 2, 3, 9]]\n",
      "[[[8, 0], [1, 4], [3, 6]], [[4, 7], [6, 6], [1, 4]]]\n",
      "[[[8, 0], [1, 4], [3, 6]], [[4, 7], [6, 6], [1, 4]]]\n"
     ]
    }
   ],
   "source": [
    "a = np.random.randint(10, size=6) \n",
    "\n",
    "print(a.tolist())\n",
    "print(list(a))\n",
    "\n",
    "\n",
    "b = np.random.randint(10, size=(3,4)) \n",
    "\n",
    "print(b.tolist())\n",
    "print(list(b))\n",
    "\n",
    "\n",
    "c = np.random.randint(10, size=(2,3,2)) \n",
    "\n",
    "print(c.tolist())\n",
    "print(list(c))\n"
   ]
  },
  {
   "cell_type": "code",
   "execution_count": 44,
   "metadata": {},
   "outputs": [
    {
     "name": "stdout",
     "output_type": "stream",
     "text": [
      "list(a) -> a.tolist: [9, 4, 5, 0, 3, 2]\n",
      "list(b) -> b.tolist: [[1, 5, 4, 9], [3, 1, 1, 8], [4, 2, 3, 9]]\n",
      "list(c) -> c.tolist: [[[8, 0], [1, 4], [3, 6]], [[4, 7], [6, 6], [1, 4]]]\n"
     ]
    }
   ],
   "source": [
    "def list(iterable):\n",
    "    return iterable.tolist()\n",
    "\n",
    "print('list(a) -> a.tolist:', list(a))\n",
    "print('list(b) -> b.tolist:', list(b))\n",
    "print('list(c) -> c.tolist:', list(c))"
   ]
  }
 ],
 "metadata": {
  "colab": {
   "name": "Day_023_HW.ipynb",
   "provenance": []
  },
  "kernelspec": {
   "display_name": "Python 3",
   "language": "python",
   "name": "python3"
  },
  "language_info": {
   "codemirror_mode": {
    "name": "ipython",
    "version": 3
   },
   "file_extension": ".py",
   "mimetype": "text/x-python",
   "name": "python",
   "nbconvert_exporter": "python",
   "pygments_lexer": "ipython3",
   "version": "3.8.5"
  }
 },
 "nbformat": 4,
 "nbformat_minor": 1
}
