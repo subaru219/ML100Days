{
 "cells": [
  {
   "cell_type": "markdown",
   "metadata": {},
   "source": [
    "1. 在速度較慢的時候，可以先從哪邊開始檢查？\n",
    "Ans: 先檢查資料型態，可以改成使用pkl文件格式以減少執行時間；再者在程式中多使用agg和內建函數；最後盡量多使用向量化的資料處理\n",
    "\n",
    "2. 資料過⼤時應採取什麼⽅式讓記憶體占⽤量下降？\n",
    "Ans: 將欄位的型態降級，不需要存太多元素在一個數字中"
   ]
  }
 ],
 "metadata": {
  "kernelspec": {
   "display_name": "Python 3",
   "language": "python",
   "name": "python3"
  },
  "language_info": {
   "codemirror_mode": {
    "name": "ipython",
    "version": 3
   },
   "file_extension": ".py",
   "mimetype": "text/x-python",
   "name": "python",
   "nbconvert_exporter": "python",
   "pygments_lexer": "ipython3",
   "version": "3.8.5"
  }
 },
 "nbformat": 4,
 "nbformat_minor": 4
}
