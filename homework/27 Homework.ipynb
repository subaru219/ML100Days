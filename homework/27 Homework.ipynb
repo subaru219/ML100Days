{
 "cells": [
  {
   "cell_type": "markdown",
   "metadata": {
    "id": "H-z4L8J371GO"
   },
   "source": [
    "## 作業:\n",
    "今天學到不同統計量之間特性，  \n",
    "試著分析男生女生身高資料，  \n",
    "試著回答下面的問題:  \n",
    "Q1:試著用今天所教的內容，如何描述這兩組資料的樣態?    \n",
    "Q2: 請問男生和女生在平均身高上誰比較高?   \n",
    "Q3:請問第二題的答案和日常生活中觀察的一致嗎? 如果不一致，你覺得原因可能為何?    \n",
    "上述問題透過  python 語法進行運算，\n",
    "並將上述答案填寫在 (google 表單)[https://docs.google.com/forms/d/e/1FAIpQLSdDzwpeJl8YLPwZaW8pBZvtuXY9kIbbZLqxcXyzFaoraV5JEA/viewform ]\n",
    "![](作業資料圖檔.PNG)"
   ]
  },
  {
   "cell_type": "code",
   "execution_count": 3,
   "metadata": {
    "id": "yz28_IgkYdBW"
   },
   "outputs": [],
   "source": [
    "# library\n",
    "import matplotlib.pyplot as plt\n",
    "import numpy as np\n",
    "import pandas as pd\n",
    "from scipy import stats\n",
    "import math\n",
    "import statistics\n",
    "import seaborn as sns"
   ]
  },
  {
   "cell_type": "code",
   "execution_count": 4,
   "metadata": {
    "id": "3NtzuWtt71GU",
    "outputId": "be21c4eb-a6c2-4674-aadd-d378bafc0428"
   },
   "outputs": [],
   "source": [
    "## 輸入資料\n",
    "boys=[164, 176, 169, 169, 165, 175, 159, 151, 144, 160, 183, 165, 156, 170, 164, 173, 165, 163, 177, 171]\n",
    "\n",
    "girls=[169, 183, 170, 168, 182, 170, 173, 185, 151, 156, 162, 169, 162, 181, 159, 154, 167, 175, 170, 160]"
   ]
  },
  {
   "cell_type": "code",
   "execution_count": 5,
   "metadata": {
    "id": "uDM9AzrY71GW",
    "outputId": "f4e7ede3-fda9-4858-f122-af7c3b3f3ad4"
   },
   "outputs": [
    {
     "name": "stdout",
     "output_type": "stream",
     "text": [
      "男生平均身高= 165.95\n",
      "女生平均身高= 168.3\n",
      "男生身高中位數= 165.0\n",
      "女生身高中位數= 169.0\n",
      "男生身高眾數= 165\n",
      "女生身高眾數= 170\n",
      "男生身高全距= 39\n",
      "女生身高全距= 34\n",
      "男生身高標準差= 9.213691185575838\n",
      "女生身高標準差= 9.766214587465353\n",
      "男生身高偏度= -0.47132127317376954\n",
      "男生身高峰度= 0.19395882957876331\n",
      "女生身高偏度= 0.05985321129365068\n",
      "女生身高峰度= -0.8203607083948947\n"
     ]
    }
   ],
   "source": [
    "#Q1:試著用今天所教的內容，如何描述這兩組資料的樣態?\n",
    "#暗示:  分別計算男生和女生的統計量\n",
    "\n",
    "#平均數\n",
    "mean_boy = np.mean(boys)\n",
    "print(\"男生平均身高=\", mean_boy)\n",
    "mean_girl = np.mean(girls)\n",
    "print(\"女生平均身高=\", mean_girl)\n",
    "\n",
    "#中位數\n",
    "median_boy = np.median(boys, axis=None)\n",
    "print(\"男生身高中位數=\", median_boy)\n",
    "median_girl = np.median(girls, axis=None)\n",
    "print(\"女生身高中位數=\", median_girl)\n",
    "\n",
    "#眾數\n",
    "mode_boy = stats.mode(boys, axis=None)\n",
    "print(\"男生身高眾數=\", mode_boy[0][0])\n",
    "mode_girl = stats.mode(girls, axis=None)\n",
    "print(\"女生身高眾數=\", mode_girl[0][0])\n",
    "\n",
    "#全距\n",
    "def rangeV(x):\n",
    "    return(max(x)-min(x))\n",
    "\n",
    "print(\"男生身高全距=\", rangeV(boys))\n",
    "print(\"女生身高全距=\", rangeV(girls))\n",
    "\n",
    "#標準差\n",
    "std_boy = np.std(boys, ddof=1)\n",
    "print(\"男生身高標準差=\", std_boy)\n",
    "std_girl = np.std(girls, ddof=1)\n",
    "print(\"女生身高標準差=\", std_girl)\n",
    "\n",
    "#峰度和偏度\n",
    "print(\"男生身高偏度=\", stats.skew(boys))\n",
    "print(\"男生身高峰度=\", stats.kurtosis(boys))\n",
    "\n",
    "print(\"女生身高偏度=\", stats.skew(girls))\n",
    "print(\"女生身高峰度=\", stats.kurtosis(girls))\n"
   ]
  },
  {
   "cell_type": "code",
   "execution_count": 6,
   "metadata": {},
   "outputs": [
    {
     "data": {
      "image/png": "[encoded data removed]",
      "text/plain": [
       "<Figure size 432x288 with 1 Axes>"
      ]
     },
     "metadata": {
      "needs_background": "light"
     },
     "output_type": "display_data"
    }
   ],
   "source": [
    "#畫圖看分析結果\n",
    "plt.hist(boys, alpha = .4, bins = 40)\n",
    "plt.title('boys, skewness = {0}, kurtosis = {1}'.format(round(stats.skew(boys), 2), round(stats.kurtosis(boys), 2)))\n",
    "plt.axvline(x = mean_boy)\n",
    "plt.show()"
   ]
  },
  {
   "cell_type": "code",
   "execution_count": 9,
   "metadata": {
    "scrolled": true
   },
   "outputs": [
    {
     "data": {
      "image/png": "[encoded data removed]",
      "text/plain": [
       "<Figure size 432x288 with 1 Axes>"
      ]
     },
     "metadata": {
      "needs_background": "light"
     },
     "output_type": "display_data"
    }
   ],
   "source": [
    "plt.hist(girls, alpha = .4, bins = 40, color = sns.desaturate(\"indianred\", .8))\n",
    "plt.title('girls, skewness = {0}, kurtosis = {1}'.format(round(stats.skew(girls), 2), round(stats.kurtosis(girls), 2)))\n",
    "plt.axvline(x = mean_girl, color = sns.desaturate(\"indianred\", .8))\n",
    "plt.show()"
   ]
  },
  {
   "cell_type": "code",
   "execution_count": 10,
   "metadata": {},
   "outputs": [
    {
     "data": {
      "image/png": "[encoded data removed]",
      "text/plain": [
       "<Figure size 432x288 with 1 Axes>"
      ]
     },
     "metadata": {
      "needs_background": "light"
     },
     "output_type": "display_data"
    }
   ],
   "source": [
    "plt.hist(boys, alpha = .4)\n",
    "plt.hist(girls, alpha = .4, color = sns.desaturate(\"indianred\", .8))\n",
    "plt.title(\"all samples\")\n",
    "plt.axvline(x = mean_girl, color = sns.desaturate(\"indianred\", .8))\n",
    "plt.axvline(x = mean_boy)\n",
    "plt.show()"
   ]
  },
  {
   "cell_type": "code",
   "execution_count": 11,
   "metadata": {
    "id": "xH_GNsC271GW",
    "outputId": "f4b4c46a-0d8b-421c-9c70-0ebf2aab0e31"
   },
   "outputs": [
    {
     "name": "stdout",
     "output_type": "stream",
     "text": [
      "男生平均身高= 165.95\n",
      "女生平均身高= 168.3\n",
      "女生平均身高較高\n"
     ]
    }
   ],
   "source": [
    "#Q2: 請問男生和女生在平均身高上誰比較高? \n",
    "mean_boy = np.mean(boys)\n",
    "print(\"男生平均身高=\", mean_boy)\n",
    "mean_girl = np.mean(girls)\n",
    "print(\"女生平均身高=\", mean_girl)\n",
    "print(\"女生平均身高較高\")"
   ]
  },
  {
   "cell_type": "code",
   "execution_count": 13,
   "metadata": {
    "id": "xAzZU0Dv71GX",
    "outputId": "e2017c09-70fc-41ab-99c0-9d41fe21629d"
   },
   "outputs": [
    {
     "name": "stdout",
     "output_type": "stream",
     "text": [
      "不一致，可能因為抽樣的樣本導致的誤差\n"
     ]
    }
   ],
   "source": [
    "#Q3:請問第二題的答案和日常生活中觀察的一致嗎? 如果不一致，你覺得原因可能為何? \n",
    "print(\"不一致，可能因為抽樣的樣本導致的誤差\")"
   ]
  },
  {
   "cell_type": "code",
   "execution_count": null,
   "metadata": {},
   "outputs": [],
   "source": []
  }
 ],
 "metadata": {
  "colab": {
   "collapsed_sections": [],
   "name": "作業.ipynb",
   "provenance": []
  },
  "kernelspec": {
   "display_name": "Python 3",
   "language": "python",
   "name": "python3"
  },
  "language_info": {
   "codemirror_mode": {
    "name": "ipython",
    "version": 3
   },
   "file_extension": ".py",
   "mimetype": "text/x-python",
   "name": "python",
   "nbconvert_exporter": "python",
   "pygments_lexer": "ipython3",
   "version": "3.8.5"
  }
 },
 "nbformat": 4,
 "nbformat_minor": 1
}
